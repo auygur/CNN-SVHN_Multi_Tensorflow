{
 "cells": [
  {
   "cell_type": "markdown",
   "metadata": {
    "collapsed": true
   },
   "source": [
    "# Pre-procesissing Multi Digit SVHN Dataset: Step 1\n",
    "\n",
    "- Arman Uygur # au2205\n",
    "- Jonathan Galsurkar #jfg2150\n",
    "- Nitesh Surtani #ns3148"
   ]
  },
  {
   "cell_type": "code",
   "execution_count": 1,
   "metadata": {
    "collapsed": true
   },
   "outputs": [],
   "source": [
    "\"\"\"\n",
    "Adapted from https://github.com/thomalm/svhn-multi-digit\n",
    "\"\"\"\n",
    "\n",
    "import os\n",
    "import sys\n",
    "import tarfile\n",
    "import numpy as np\n",
    "import json\n",
    "import pandas as pd\n",
    "import seaborn as sns\n",
    "import matplotlib.pyplot as plt\n",
    "from PIL import Image, ImageDraw\n",
    "from IPython.display import display, Image, HTML\n",
    "import h5py\n",
    "\n",
    "plt.rcParams['figure.figsize'] = (16.0, 4.0)\n",
    "%matplotlib inline"
   ]
  },
  {
   "cell_type": "code",
   "execution_count": 3,
   "metadata": {
    "collapsed": true
   },
   "outputs": [],
   "source": [
    "base_dir = \"data/\"\n",
    "\n",
    "if not os.path.isfile(base_dir + \"train_bounding_boxes.csv\"):\n",
    "    print(\"Run Preprocessing on training data in this sequence\")\n",
    "\n",
    "if not os.path.isfile(base_dir + \"test_bounding_boxes.csv\"):\n",
    "    print(\"Run Preprocessing on testing datain this sequence\")\n",
    "\n",
    "if not os.path.isfile(base_dir + \"extra_bounding_boxes.csv\"):\n",
    "    print(\"Run Preprocessing on extra data in this sequence\")"
   ]
  },
  {
   "cell_type": "code",
   "execution_count": 6,
   "metadata": {
    "collapsed": true
   },
   "outputs": [],
   "source": [
    "# # Preprocessing for Extra \n",
    "process = \"extra\"\n",
    "data_dir = \"data/extra/\""
   ]
  },
  {
   "cell_type": "code",
   "execution_count": 7,
   "metadata": {
    "collapsed": true
   },
   "outputs": [],
   "source": [
    "from PIL import Image\n",
    "image_size_file = base_dir + process + \"_image_sizes.csv\"\n",
    "\n",
    "i=0\n",
    "if not os.path.isfile(image_size_file):\n",
    "    sizes = []\n",
    "    size=[]\n",
    "    items = [img for img in os.listdir(data_dir) if img.endswith('.png')]\n",
    "\n",
    "    for item in items:\n",
    "        width, height = Image.open(data_dir+item).size\n",
    "        item_size = {'filename': data_dir+item, 'width': width, 'height': height}\n",
    "        sizes.append(item_size)\n",
    "        i+=1\n",
    "        if i%1000==0:\n",
    "            print(i)\n",
    "    image_sizes = pd.DataFrame(sizes)\n",
    "    image_sizes.to_csv(image_size_file, index=False)\n",
    "\n",
    "image_sizes = pd.read_csv(image_size_file)\n"
   ]
  },
  {
   "cell_type": "code",
   "execution_count": 8,
   "metadata": {
    "collapsed": true
   },
   "outputs": [],
   "source": [
    "# Use the DigitStructWrapper functionality \n",
    "from unpacker import DigitStructWrapper\n",
    "\n",
    "def get_bounding_boxes(start_path = '.'):\n",
    "    \"\"\" Extracts a bounding box file and returns a dictionary\n",
    "    \"\"\"\n",
    "    return DigitStructWrapper(start_path).unpack_all()\n"
   ]
  },
  {
   "cell_type": "code",
   "execution_count": 9,
   "metadata": {
    "collapsed": true
   },
   "outputs": [],
   "source": [
    "# Check if we have already created bounding boxes\n",
    "bbox_file = base_dir + process + \"_bounding_boxes.csv\"\n",
    "\n",
    "if not os.path.isfile(bbox_file):\n",
    "    bbox = get_bounding_boxes(data_dir+'digitStruct.mat')\n",
    "\n",
    "    # Convert bbox to list of dicts\n",
    "    new_bbox = []\n",
    "\n",
    "    for box in bbox:\n",
    "            # For every bounding box\n",
    "            for item in box['boxes']:\n",
    "\n",
    "                # Store a dict with the file and bounding box info\n",
    "                new_bbox.append({\n",
    "                        'filename': data_dir + box['filename'],\n",
    "                        'label': int(item['label']),\n",
    "                        'height_low': item['top'],\n",
    "                        'height_high': item['top']+item['height'],\n",
    "                        'width_low': item['left'],\n",
    "                        'width_high': item['left']+item['width'],\n",
    "                })\n",
    "\n",
    "    # Convert new_bbox to DF\n",
    "    df = pd.DataFrame(new_bbox)\n",
    "    \n",
    "    aggregate = {'width_low':'min',\n",
    "                 'height_low':'min',\n",
    "                 'width_high':'max',\n",
    "                 'height_high':'max',\n",
    "                 'label':{\n",
    "                    'labels': lambda x: list(x),\n",
    "                    'num_digits': 'count'}}\n",
    "\n",
    "    # Apply the aggration\n",
    "    df = df.groupby('filename').agg(aggregate).reset_index()\n",
    "\n",
    "    # Fix the column names after aggregation\n",
    "    df.columns = [x[0] if i < 5 else x[1] for i, x in enumerate(df.columns.values)]\n",
    "\n",
    "    # Save new box\n",
    "    df.to_csv(bbox_file, index=False)\n",
    "        \n",
    "box_df = pd.read_csv(bbox_file)\n",
    "\n"
   ]
  },
  {
   "cell_type": "code",
   "execution_count": 10,
   "metadata": {
    "collapsed": false
   },
   "outputs": [
    {
     "data": {
      "text/html": [
       "<div>\n",
       "<style scoped>\n",
       "    .dataframe tbody tr th:only-of-type {\n",
       "        vertical-align: middle;\n",
       "    }\n",
       "\n",
       "    .dataframe tbody tr th {\n",
       "        vertical-align: top;\n",
       "    }\n",
       "\n",
       "    .dataframe thead th {\n",
       "        text-align: right;\n",
       "    }\n",
       "</style>\n",
       "<table border=\"1\" class=\"dataframe\">\n",
       "  <thead>\n",
       "    <tr style=\"text-align: right;\">\n",
       "      <th></th>\n",
       "      <th>filename</th>\n",
       "      <th>width_low</th>\n",
       "      <th>height_low</th>\n",
       "      <th>width_high</th>\n",
       "      <th>height_high</th>\n",
       "      <th>labels</th>\n",
       "      <th>num_digits</th>\n",
       "      <th>height</th>\n",
       "      <th>width</th>\n",
       "    </tr>\n",
       "  </thead>\n",
       "  <tbody>\n",
       "    <tr>\n",
       "      <th>0</th>\n",
       "      <td>data/extra/1.png</td>\n",
       "      <td>24.0</td>\n",
       "      <td>23.0</td>\n",
       "      <td>126.0</td>\n",
       "      <td>126.0</td>\n",
       "      <td>[4,  7,  8]</td>\n",
       "      <td>3</td>\n",
       "      <td>141</td>\n",
       "      <td>166</td>\n",
       "    </tr>\n",
       "    <tr>\n",
       "      <th>1</th>\n",
       "      <td>data/extra/10.png</td>\n",
       "      <td>5.0</td>\n",
       "      <td>5.0</td>\n",
       "      <td>52.0</td>\n",
       "      <td>32.0</td>\n",
       "      <td>[4,  4,  4]</td>\n",
       "      <td>3</td>\n",
       "      <td>41</td>\n",
       "      <td>52</td>\n",
       "    </tr>\n",
       "    <tr>\n",
       "      <th>2</th>\n",
       "      <td>data/extra/100.png</td>\n",
       "      <td>3.0</td>\n",
       "      <td>1.0</td>\n",
       "      <td>46.0</td>\n",
       "      <td>30.0</td>\n",
       "      <td>[5,  3,  5]</td>\n",
       "      <td>3</td>\n",
       "      <td>32</td>\n",
       "      <td>51</td>\n",
       "    </tr>\n",
       "    <tr>\n",
       "      <th>3</th>\n",
       "      <td>data/extra/1000.png</td>\n",
       "      <td>9.0</td>\n",
       "      <td>7.0</td>\n",
       "      <td>36.0</td>\n",
       "      <td>40.0</td>\n",
       "      <td>[2,  6]</td>\n",
       "      <td>2</td>\n",
       "      <td>49</td>\n",
       "      <td>51</td>\n",
       "    </tr>\n",
       "    <tr>\n",
       "      <th>4</th>\n",
       "      <td>data/extra/10000.png</td>\n",
       "      <td>8.0</td>\n",
       "      <td>9.0</td>\n",
       "      <td>41.0</td>\n",
       "      <td>35.0</td>\n",
       "      <td>[2,  10,  10]</td>\n",
       "      <td>3</td>\n",
       "      <td>44</td>\n",
       "      <td>55</td>\n",
       "    </tr>\n",
       "  </tbody>\n",
       "</table>\n",
       "</div>"
      ],
      "text/plain": [
       "               filename  width_low  height_low  width_high  height_high  \\\n",
       "0      data/extra/1.png       24.0        23.0       126.0        126.0   \n",
       "1     data/extra/10.png        5.0         5.0        52.0         32.0   \n",
       "2    data/extra/100.png        3.0         1.0        46.0         30.0   \n",
       "3   data/extra/1000.png        9.0         7.0        36.0         40.0   \n",
       "4  data/extra/10000.png        8.0         9.0        41.0         35.0   \n",
       "\n",
       "          labels  num_digits  height  width  \n",
       "0    [4,  7,  8]           3     141    166  \n",
       "1    [4,  4,  4]           3      41     52  \n",
       "2    [5,  3,  5]           3      32     51  \n",
       "3        [2,  6]           2      49     51  \n",
       "4  [2,  10,  10]           3      44     55  "
      ]
     },
     "execution_count": 10,
     "metadata": {},
     "output_type": "execute_result"
    }
   ],
   "source": [
    "df = pd.merge(box_df, image_sizes, on='filename', how='inner')\n",
    "df.loc[:,'labels'] = df.loc[:,'labels'].str.slice(1,-1).str.split(',')\n",
    "df.head()"
   ]
  },
  {
   "cell_type": "code",
   "execution_count": 11,
   "metadata": {
    "collapsed": true
   },
   "outputs": [],
   "source": [
    "# Correct bounding boxes not contained by image\n",
    "df.loc[df['width_low'] < 0, 'width_low'] = 0\n",
    "df.loc[df['height_low'] < 0, 'height_low'] = 0\n",
    "df.loc[df['width_high'] > df['width'], 'width_high'] = df['width']\n",
    "df.loc[df['height_high'] > df['height'], 'height_high'] = df['height']\n",
    "\n",
    "df = df[df.num_digits < 5]"
   ]
  },
  {
   "cell_type": "code",
   "execution_count": 12,
   "metadata": {
    "collapsed": false
   },
   "outputs": [
    {
     "name": "stderr",
     "output_type": "stream",
     "text": [
      "/home/ecbm4040/miniconda2/envs/dlenv/lib/python3.6/site-packages/ipykernel_launcher.py:12: DeprecationWarning: `imread` is deprecated!\n",
      "`imread` is deprecated in SciPy 1.0.0.\n",
      "Use ``matplotlib.pyplot.imread`` instead.\n",
      "  if sys.path[0] == '':\n",
      "/home/ecbm4040/miniconda2/envs/dlenv/lib/python3.6/site-packages/ipykernel_launcher.py:14: DeprecationWarning: `imresize` is deprecated!\n",
      "`imresize` is deprecated in SciPy 1.0.0, and will be removed in 1.2.0.\n",
      "Use ``skimage.transform.resize`` instead.\n",
      "  \n",
      "/home/ecbm4040/miniconda2/envs/dlenv/lib/python3.6/site-packages/ipykernel_launcher.py:18: FutureWarning: elementwise comparison failed; returning scalar instead, but in the future will perform elementwise comparison\n"
     ]
    }
   ],
   "source": [
    "# Crop Images\n",
    "from scipy.ndimage import imread\n",
    "from scipy.misc import imresize\n",
    "\n",
    "req_size = (32, 32)\n",
    "\n",
    "X = np.zeros(shape=(df.shape[0], req_size[0], req_size[1], 3), dtype='uint8')\n",
    "y = np.full((df.shape[0], 5), 10, dtype=int)\n",
    "\n",
    "for i, (index, image) in enumerate(df.iterrows()):\n",
    "    # Get the image data\n",
    "    img = imread(image['filename'])\n",
    "    cropped = img[int(image['height_low']):int(image['height_high']), int(image['width_low']):int(image['width_high']), :]\n",
    "    X[i] = imresize(cropped, req_size)\n",
    "    \n",
    "    labels = np.array((image['labels']))\n",
    "\n",
    "    labels[labels==10] = 0\n",
    "    y[i,0:labels.shape[0]] = labels\n",
    "\n"
   ]
  },
  {
   "cell_type": "code",
   "execution_count": 16,
   "metadata": {
    "collapsed": true
   },
   "outputs": [],
   "source": [
    "greyscale = np.dot(X, [0.2989, 0.5870, 0.1140])\n",
    "X_grey = np.expand_dims(greyscale, axis=3).astype(np.float32)\n",
    "\n",
    "# Create file\n",
    "h5f = h5py.File(base_dir+process+'_multi_grey.h5', 'w')\n",
    "h5f.create_dataset(process+'_dataset', data=X)\n",
    "h5f.create_dataset(process+'_labels', data=y)\n",
    "\n",
    "# Close the file\n",
    "h5f.close()"
   ]
  }
 ],
 "metadata": {
  "kernelspec": {
   "display_name": "Python [default]",
   "language": "python",
   "name": "python3"
  },
  "language_info": {
   "codemirror_mode": {
    "name": "ipython",
    "version": 3
   },
   "file_extension": ".py",
   "mimetype": "text/x-python",
   "name": "python",
   "nbconvert_exporter": "python",
   "pygments_lexer": "ipython3",
   "version": "3.5.3"
  }
 },
 "nbformat": 4,
 "nbformat_minor": 1
}
