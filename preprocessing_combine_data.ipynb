{
 "cells": [
  {
   "cell_type": "markdown",
   "metadata": {},
   "source": [
    "# Pre-procesissing Multi Digit SVHN Dataset: Step 2\n",
    "\n",
    "- Arman Uygur # au2205\n",
    "- Jonathan Galsurkar #jfg2150\n",
    "- Nitesh Surtani #ns3148"
   ]
  },
  {
   "cell_type": "code",
   "execution_count": 82,
   "metadata": {
    "collapsed": true
   },
   "outputs": [],
   "source": [
    "\"\"\"\n",
    "Adapted from https://github.com/thomalm/svhn-multi-digit\n",
    "\"\"\"\n",
    "\n",
    "import os\n",
    "import sys\n",
    "import tarfile\n",
    "import numpy as np\n",
    "import json\n",
    "import pandas as pd\n",
    "import seaborn as sns\n",
    "import matplotlib.pyplot as plt\n",
    "from PIL import Image, ImageDraw\n",
    "from IPython.display import display, Image, HTML\n",
    "import h5py\n",
    "\n",
    "from skimage import color\n",
    "from skimage import io\n",
    "\n",
    "plt.rcParams['figure.figsize'] = (16.0, 4.0)\n",
    "%matplotlib inline\n",
    "base_dir = \"data/\""
   ]
  },
  {
   "cell_type": "code",
   "execution_count": 83,
   "metadata": {
    "collapsed": true
   },
   "outputs": [],
   "source": [
    "import h5py\n",
    "\n",
    "def readData(d,process):\n",
    "    h5f = h5py.File(d+process+'_multi_grey.h5','r')\n",
    "    X = h5f[process+'_dataset'][:]\n",
    "    y = h5f[process+'_labels'][:]\n",
    "    h5f.close()\n",
    "    return X,y\n",
    "    \n",
    "X_train, y_train = readData(base_dir,'train')\n",
    "X_test, y_test = readData(base_dir,'test')\n",
    "X_extra, y_extra = readData(base_dir,'extra')"
   ]
  },
  {
   "cell_type": "code",
   "execution_count": 84,
   "metadata": {
    "collapsed": true
   },
   "outputs": [],
   "source": [
    "X_train_new=color.rgb2gray(X_train)\n",
    "X_test_new=color.rgb2gray(X_test)\n",
    "X_extra_new=color.rgb2gray(X_extra)"
   ]
  },
  {
   "cell_type": "code",
   "execution_count": 85,
   "metadata": {
    "collapsed": false
   },
   "outputs": [
    {
     "name": "stdout",
     "output_type": "stream",
     "text": [
      "Training (212630, 32, 32) (212630, 5)\n",
      "Validation (23000, 32, 32) (23000, 5)\n"
     ]
    }
   ],
   "source": [
    "def random_sample(N, K):\n",
    "    \"\"\"Return a boolean mask of size N with K selections\n",
    "    \"\"\"\n",
    "    mask = np.array([True]*K + [False]*(N-K))\n",
    "    np.random.shuffle(mask)\n",
    "    return mask\n",
    "\n",
    "# Pick 3000 training and 2000 extra samples\n",
    "sample1 = random_sample(X_train_new.shape[0], 3000)\n",
    "sample2 = random_sample(X_extra_new.shape[0], 20000)\n",
    "\n",
    "# Create valdidation from the sampled data\n",
    "X_val_new = np.concatenate([X_train_new[sample1], X_extra_new[sample2]])\n",
    "y_val = np.concatenate([y_train[sample1], y_extra[sample2]])\n",
    "\n",
    "# Keep the data not contained by sample\n",
    "X_train_new = np.concatenate([X_train_new[~sample1], X_extra_new[~sample2]])\n",
    "y_train = np.concatenate([y_train[~sample1], y_extra[~sample2]])\n",
    "\n",
    "# Moved to validation and training set\n",
    "\n",
    "print(\"Training\", X_train_new.shape, y_train.shape)\n",
    "print('Validation', X_val_new.shape, y_val.shape)"
   ]
  },
  {
   "cell_type": "code",
   "execution_count": 87,
   "metadata": {
    "collapsed": true
   },
   "outputs": [],
   "source": [
    "# Create file\n",
    "h5f = h5py.File('data/SVHN_preprocessed.h5', 'w')\n",
    "\n",
    "# Store the datasets\n",
    "h5f.create_dataset('train_dataset', data=X_train_new)\n",
    "h5f.create_dataset('train_labels', data=y_train)\n",
    "h5f.create_dataset('test_dataset', data=X_test_new)\n",
    "h5f.create_dataset('test_labels', data=y_test)\n",
    "h5f.create_dataset('valid_dataset', data=X_val_new)\n",
    "h5f.create_dataset('valid_labels', data=y_val)\n",
    "\n",
    "# Close the file\n",
    "h5f.close()"
   ]
  },
  {
   "cell_type": "code",
   "execution_count": null,
   "metadata": {
    "collapsed": true
   },
   "outputs": [],
   "source": []
  }
 ],
 "metadata": {
  "kernelspec": {
   "display_name": "Python [default]",
   "language": "python",
   "name": "python3"
  },
  "language_info": {
   "codemirror_mode": {
    "name": "ipython",
    "version": 3
   },
   "file_extension": ".py",
   "mimetype": "text/x-python",
   "name": "python",
   "nbconvert_exporter": "python",
   "pygments_lexer": "ipython3",
   "version": "3.5.3"
  }
 },
 "nbformat": 4,
 "nbformat_minor": 1
}
